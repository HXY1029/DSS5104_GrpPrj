{
 "cells": [
  {
   "cell_type": "code",
   "execution_count": 1,
   "id": "874d64a9",
   "metadata": {},
   "outputs": [
    {
     "name": "stdout",
     "output_type": "stream",
     "text": [
      "✅ 已保存为 processed_energy.csv\n"
     ]
    }
   ],
   "source": [
    "import pandas as pd\n",
    "\n",
    "# Step 1: 读取原始数据\n",
    "df = pd.read_csv(\"./continuous dataset.csv\")  # 如果你放在别的路径，请修改路径\n",
    "\n",
    "# Step 2: 解析时间列并排序\n",
    "df[\"datetime\"] = pd.to_datetime(df[\"datetime\"])\n",
    "df = df.sort_values(\"datetime\").reset_index(drop=True)\n",
    "\n",
    "# Step 3: 添加时间类特征\n",
    "df[\"hour\"] = df[\"datetime\"].dt.hour\n",
    "df[\"weekday\"] = df[\"datetime\"].dt.weekday\n",
    "df[\"is_weekend\"] = df[\"weekday\"].isin([5, 6]).astype(int)\n",
    "\n",
    "# Step 4: 构造滞后特征（以 nat_demand 为主）\n",
    "df[\"lag_1\"] = df[\"nat_demand\"].shift(1)\n",
    "df[\"lag_24\"] = df[\"nat_demand\"].shift(24)  # 一天前\n",
    "df[\"rolling_mean_3d\"] = df[\"nat_demand\"].rolling(window=24*3).mean()\n",
    "df[\"rolling_mean_7d\"] = df[\"nat_demand\"].rolling(window=24*7).mean()\n",
    "\n",
    "# Step 5: 删除由滞后/滚动产生的缺失值\n",
    "df = df.dropna().reset_index(drop=True)\n",
    "\n",
    "# Step 6: 保存为 CSV 文件供模型组使用\n",
    "df.to_csv(\"processed_energy.csv\", index=False)\n",
    "print(\"✅ 已保存为 processed_energy.csv\")\n"
   ]
  }
 ],
 "metadata": {
  "kernelspec": {
   "display_name": "base",
   "language": "python",
   "name": "python3"
  },
  "language_info": {
   "codemirror_mode": {
    "name": "ipython",
    "version": 3
   },
   "file_extension": ".py",
   "mimetype": "text/x-python",
   "name": "python",
   "nbconvert_exporter": "python",
   "pygments_lexer": "ipython3",
   "version": "3.12.4"
  }
 },
 "nbformat": 4,
 "nbformat_minor": 5
}
