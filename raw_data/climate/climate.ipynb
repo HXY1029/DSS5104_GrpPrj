{
 "cells": [
  {
   "cell_type": "code",
   "execution_count": null,
   "id": "c136fb3c",
   "metadata": {},
   "outputs": [
    {
     "name": "stdout",
     "output_type": "stream",
     "text": [
      "✅ 已保存为 processed_pollution_multivariate.csv\n"
     ]
    }
   ],
   "source": [
    "import pandas as pd\n",
    "\n",
    "df = pd.read_csv(\"./LSTM-Multivariate_pollution.csv\")\n",
    "\n",
    "df[\"date\"] = pd.to_datetime(df[\"date\"])\n",
    "df = df.sort_values(\"date\").reset_index(drop=True)\n",
    "\n",
    "# add time features\n",
    "df[\"hour\"] = df[\"date\"].dt.hour\n",
    "df[\"weekday\"] = df[\"date\"].dt.weekday\n",
    "df[\"is_weekend\"] = df[\"weekday\"].isin([5, 6]).astype(int)\n",
    "\n",
    "df[\"wnd_dir\"] = df[\"wnd_dir\"].astype(\"category\").cat.codes\n",
    "\n",
    "# add lag features\n",
    "for lag in [1, 3, 6, 24]:\n",
    "    df[f\"pollution_lag{lag}\"] = df[\"pollution\"].shift(lag)\n",
    "\n",
    "# add classification features\n",
    "def classify_aqi(x):\n",
    "    if x <= 50:\n",
    "        return 0  # very good\n",
    "    elif x <= 100:\n",
    "        return 1  # good\n",
    "    elif x <= 150:\n",
    "        return 2  # less polluted\n",
    "    elif x <= 200:\n",
    "        return 3  # moderate polluted\n",
    "    else:\n",
    "        return 4  # polluted heavily\n",
    "\n",
    "df[\"pollution_level\"] = df[\"pollution\"].apply(classify_aqi)\n",
    "\n",
    "df = df.dropna().reset_index(drop=True)\n",
    "\n",
    "df.to_csv(\"processed_pollution_multivariate.csv\", index=False)\n",
    "print(\"saved as: processed_pollution_multivariate.csv\")\n"
   ]
  },
  {
   "cell_type": "code",
   "execution_count": null,
   "id": "997f131c",
   "metadata": {},
   "outputs": [],
   "source": [
    "from sklearn.preprocessing import MinMaxScaler\n",
    "\n",
    "df_climate = pd.read_csv(\"climate_processed_pollution_multivariate.csv\")\n",
    "\n",
    "cols_to_normalize_climate = [\n",
    "    \"pollution\",         \n",
    "    \"wnd_spd\",           \n",
    "    \"pollution_lag1\",   \n",
    "    \"pollution_lag3\",\n",
    "    \"pollution_lag6\",\n",
    "    \"pollution_lag24\"\n",
    "]\n",
    "\n",
    "scaler_climate = MinMaxScaler()\n",
    "\n",
    "# Fit and transform the selected columns\n",
    "normalized_values_climate = scaler_climate.fit_transform(df_climate[cols_to_normalize_climate])\n",
    "\n",
    "normalized_df_climate = pd.DataFrame(\n",
    "    normalized_values_climate,\n",
    "    columns=[col + \"_normalized\" for col in cols_to_normalize_climate]\n",
    ")\n",
    "\n",
    "# Concatenate \n",
    "df_climate_normalized = pd.concat([df_climate, normalized_df_climate], axis=1)\n",
    "\n",
    "df_climate_normalized.to_csv(\"climate_normalized_selected.csv\", index=False)\n",
    "print(\"Saved as climate_normalized_selected.csv\")\n",
    "\n"
   ]
  }
 ],
 "metadata": {
  "kernelspec": {
   "display_name": "base",
   "language": "python",
   "name": "python3"
  },
  "language_info": {
   "codemirror_mode": {
    "name": "ipython",
    "version": 3
   },
   "file_extension": ".py",
   "mimetype": "text/x-python",
   "name": "python",
   "nbconvert_exporter": "python",
   "pygments_lexer": "ipython3",
   "version": "3.12.4"
  }
 },
 "nbformat": 4,
 "nbformat_minor": 5
}
