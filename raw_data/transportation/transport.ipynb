{
 "cells": [
  {
   "cell_type": "code",
   "execution_count": null,
   "id": "8f1acafe",
   "metadata": {},
   "outputs": [
    {
     "name": "stdout",
     "output_type": "stream",
     "text": [
      "Index(['hvfhs_license_num', 'dispatching_base_num', 'originating_base_num',\n",
      "       'request_datetime', 'on_scene_datetime', 'pickup_datetime',\n",
      "       'dropoff_datetime', 'PULocationID', 'DOLocationID', 'trip_miles',\n",
      "       'trip_time', 'base_passenger_fare', 'tolls', 'bcf', 'sales_tax',\n",
      "       'congestion_surcharge', 'airport_fee', 'tips', 'driver_pay',\n",
      "       'shared_request_flag', 'shared_match_flag', 'access_a_ride_flag',\n",
      "       'wav_request_flag', 'wav_match_flag'],\n",
      "      dtype='object')\n"
     ]
    }
   ],
   "source": [
    "import pandas as pd\n",
    "import numpy as np\n",
    "import glob\n",
    "\n",
    "file_path = \"fhvhv_tripdata_2024-01.parquet\"\n",
    "\n",
    "df = pd.read_parquet(file_path)\n",
    "\n",
    "print(df.columns)\n"
   ]
  },
  {
   "cell_type": "code",
   "execution_count": null,
   "id": "8311c39c",
   "metadata": {},
   "outputs": [
    {
     "name": "stderr",
     "output_type": "stream",
     "text": [
      "C:\\Users\\Lenovo\\AppData\\Local\\Temp\\ipykernel_8904\\3201619385.py:14: FutureWarning: 'H' is deprecated and will be removed in a future version, please use 'h' instead.\n",
      "  df[\"pickup_hour\"] = df[\"pickup_datetime\"].dt.floor(\"H\")\n",
      "C:\\Users\\Lenovo\\AppData\\Local\\Temp\\ipykernel_8904\\3201619385.py:14: FutureWarning: 'H' is deprecated and will be removed in a future version, please use 'h' instead.\n",
      "  df[\"pickup_hour\"] = df[\"pickup_datetime\"].dt.floor(\"H\")\n",
      "C:\\Users\\Lenovo\\AppData\\Local\\Temp\\ipykernel_8904\\3201619385.py:14: FutureWarning: 'H' is deprecated and will be removed in a future version, please use 'h' instead.\n",
      "  df[\"pickup_hour\"] = df[\"pickup_datetime\"].dt.floor(\"H\")\n",
      "C:\\Users\\Lenovo\\AppData\\Local\\Temp\\ipykernel_8904\\3201619385.py:14: FutureWarning: 'H' is deprecated and will be removed in a future version, please use 'h' instead.\n",
      "  df[\"pickup_hour\"] = df[\"pickup_datetime\"].dt.floor(\"H\")\n",
      "C:\\Users\\Lenovo\\AppData\\Local\\Temp\\ipykernel_8904\\3201619385.py:14: FutureWarning: 'H' is deprecated and will be removed in a future version, please use 'h' instead.\n",
      "  df[\"pickup_hour\"] = df[\"pickup_datetime\"].dt.floor(\"H\")\n",
      "C:\\Users\\Lenovo\\AppData\\Local\\Temp\\ipykernel_8904\\3201619385.py:14: FutureWarning: 'H' is deprecated and will be removed in a future version, please use 'h' instead.\n",
      "  df[\"pickup_hour\"] = df[\"pickup_datetime\"].dt.floor(\"H\")\n"
     ]
    }
   ],
   "source": [
    "\n",
    "parquet_files = glob.glob(\"./fhvhv_tripdata_2024-*.parquet\")\n",
    "\n",
    "\n",
    "df_list = []\n",
    "for file in parquet_files:\n",
    "    df = pd.read_parquet(file, columns=[\"pickup_datetime\", \"PULocationID\"])\n",
    "    df[\"pickup_datetime\"] = pd.to_datetime(df[\"pickup_datetime\"])\n",
    "    df[\"pickup_hour\"] = df[\"pickup_datetime\"].dt.floor(\"H\")\n",
    "    df_list.append(df)\n",
    "\n",
    "df_all = pd.concat(df_list, ignore_index=True)\n",
    "\n",
    "# group the data by PULocationID and pickup_hour\n",
    "region_hourly = df_all.groupby([\"PULocationID\", \"pickup_hour\"]).size().reset_index(name=\"trip_count\")\n",
    "\n",
    "# add new features\n",
    "region_hourly[\"hour\"] = region_hourly[\"pickup_hour\"].dt.hour\n",
    "region_hourly[\"weekday\"] = region_hourly[\"pickup_hour\"].dt.dayofweek\n",
    "region_hourly[\"is_weekend\"] = (region_hourly[\"weekday\"] >= 5).astype(int)\n",
    "region_hourly[\"is_peak_hour\"] = region_hourly[\"hour\"].isin([7, 8, 9, 17, 18, 19]).astype(int)\n",
    "\n",
    "holiday_list = [\"2024-01-01\", \"2024-05-27\", \"2024-07-04\"]\n",
    "region_hourly[\"is_holiday\"] = region_hourly[\"pickup_hour\"].dt.date.astype(str).isin(holiday_list).astype(int)\n",
    "\n",
    "def add_lag_features(df, group_key=\"PULocationID\"):\n",
    "    df = df.sort_values(by=[group_key, \"pickup_hour\"])\n",
    "    df[\"lag_1\"] = df.groupby(group_key)[\"trip_count\"].shift(1)\n",
    "    df[\"lag_24\"] = df.groupby(group_key)[\"trip_count\"].shift(24)\n",
    "    df[\"rolling_mean_6\"] = df.groupby(group_key)[\"trip_count\"].shift(1).rolling(6).mean().reset_index(0, drop=True)\n",
    "    df[\"rolling_mean_24\"] = df.groupby(group_key)[\"trip_count\"].shift(1).rolling(24).mean().reset_index(0, drop=True)\n",
    "    return df\n",
    "\n",
    "region_hourly = add_lag_features(region_hourly)\n",
    "region_hourly = region_hourly.dropna().reset_index(drop=True)\n",
    "\n",
    "\n",
    "region_hourly.to_csv(\"region_hourly_order_features_full.csv\", index=False)\n"
   ]
  },
  {
   "cell_type": "code",
   "execution_count": null,
   "id": "756aeea7",
   "metadata": {},
   "outputs": [],
   "source": [
    "from sklearn.preprocessing import MinMaxScaler\n",
    "\n",
    "\n",
    "df_transport = pd.read_csv(\"transport_hourly_order_features.csv\")\n",
    "\n",
    "# Define the columns to normalize\n",
    "cols_to_normalize = [\n",
    "    \"trip_count\",\n",
    "    \"lag_1\", \"lag_24\",\n",
    "    \"rolling_mean_6\", \"rolling_mean_24\"\n",
    "]\n",
    "\n",
    "# Initialize MinMaxScaler\n",
    "scaler = MinMaxScaler()\n",
    "\n",
    "normalized_values = scaler.fit_transform(df_transport[cols_to_normalize])\n",
    "\n",
    "normalized_df = pd.DataFrame(\n",
    "    normalized_values,\n",
    "    columns=[col + \"_normalized\" for col in cols_to_normalize]\n",
    ")\n",
    "\n",
    "# Concatenate the normalized columns to the original dataframe\n",
    "df_transport_normalized = pd.concat([df_transport, normalized_df], axis=1)\n",
    "\n",
    "\n",
    "df_transport_normalized.to_csv(\"transport_hourly_normalized.csv\", index=False)\n",
    "print(\"Saved as transport_hourly_normalized.csv\")\n"
   ]
  }
 ],
 "metadata": {
  "kernelspec": {
   "display_name": "base",
   "language": "python",
   "name": "python3"
  },
  "language_info": {
   "codemirror_mode": {
    "name": "ipython",
    "version": 3
   },
   "file_extension": ".py",
   "mimetype": "text/x-python",
   "name": "python",
   "nbconvert_exporter": "python",
   "pygments_lexer": "ipython3",
   "version": "3.12.4"
  }
 },
 "nbformat": 4,
 "nbformat_minor": 5
}
