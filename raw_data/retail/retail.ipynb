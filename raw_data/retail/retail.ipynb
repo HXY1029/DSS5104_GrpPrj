{
 "cells": [
  {
   "cell_type": "code",
   "execution_count": null,
   "id": "ad021123",
   "metadata": {},
   "outputs": [
    {
     "name": "stdout",
     "output_type": "stream",
     "text": [
      "calendar: (1969, 14)\n",
      "sales: (30490, 1919)\n",
      "prices: (6841121, 4)\n"
     ]
    }
   ],
   "source": [
    "import pandas as pd\n",
    "\n",
    "# 加载数据\n",
    "calendar = pd.read_csv('calendar.csv')\n",
    "sales = pd.read_csv('sales_train_validation.csv')\n",
    "prices = pd.read_csv('sell_prices.csv')\n",
    "\n",
    "# 查看维度\n",
    "print(\"calendar:\", calendar.shape)\n",
    "print(\"sales:\", sales.shape)\n",
    "print(\"prices:\", prices.shape)\n",
    " "
   ]
  },
  {
   "cell_type": "code",
   "execution_count": 2,
   "id": "d4908c56",
   "metadata": {},
   "outputs": [],
   "source": [
    "# 把 d_1 到 d_1913 的列转换为行\n",
    "sales_long = pd.melt(\n",
    "    sales,\n",
    "    id_vars=['id', 'item_id', 'dept_id', 'cat_id', 'store_id', 'state_id'],\n",
    "    var_name='d',\n",
    "    value_name='sales'\n",
    ")\n"
   ]
  },
  {
   "cell_type": "code",
   "execution_count": 3,
   "id": "d79e452f",
   "metadata": {},
   "outputs": [],
   "source": [
    "# 合并 calendar 中的日期特征（包括 wday、event、snap 等）\n",
    "sales_long = sales_long.merge(calendar, on='d', how='left')\n"
   ]
  },
  {
   "cell_type": "code",
   "execution_count": 4,
   "id": "50d23975",
   "metadata": {},
   "outputs": [],
   "source": [
    "# 合并价格 sell_prices（按 store_id, item_id, wm_yr_wk）\n",
    "sales_long = sales_long.merge(\n",
    "    prices,\n",
    "    on=['store_id', 'item_id', 'wm_yr_wk'],\n",
    "    how='left'\n",
    ")\n"
   ]
  },
  {
   "cell_type": "code",
   "execution_count": 5,
   "id": "0c3495af",
   "metadata": {},
   "outputs": [
    {
     "name": "stdout",
     "output_type": "stream",
     "text": [
      "Index(['id', 'item_id', 'dept_id', 'cat_id', 'store_id', 'state_id', 'd',\n",
      "       'sales', 'date', 'wm_yr_wk', 'weekday', 'wday', 'month', 'year',\n",
      "       'event_name_1', 'event_type_1', 'event_name_2', 'event_type_2',\n",
      "       'snap_CA', 'snap_TX', 'snap_WI', 'sell_price'],\n",
      "      dtype='object')\n",
      "                              id        item_id    dept_id   cat_id store_id  \\\n",
      "0  HOBBIES_1_001_CA_1_validation  HOBBIES_1_001  HOBBIES_1  HOBBIES     CA_1   \n",
      "1  HOBBIES_1_002_CA_1_validation  HOBBIES_1_002  HOBBIES_1  HOBBIES     CA_1   \n",
      "2  HOBBIES_1_003_CA_1_validation  HOBBIES_1_003  HOBBIES_1  HOBBIES     CA_1   \n",
      "3  HOBBIES_1_004_CA_1_validation  HOBBIES_1_004  HOBBIES_1  HOBBIES     CA_1   \n",
      "4  HOBBIES_1_005_CA_1_validation  HOBBIES_1_005  HOBBIES_1  HOBBIES     CA_1   \n",
      "\n",
      "  state_id    d  sales        date  wm_yr_wk  ... month  year  event_name_1  \\\n",
      "0       CA  d_1      0  2011-01-29     11101  ...     1  2011           NaN   \n",
      "1       CA  d_1      0  2011-01-29     11101  ...     1  2011           NaN   \n",
      "2       CA  d_1      0  2011-01-29     11101  ...     1  2011           NaN   \n",
      "3       CA  d_1      0  2011-01-29     11101  ...     1  2011           NaN   \n",
      "4       CA  d_1      0  2011-01-29     11101  ...     1  2011           NaN   \n",
      "\n",
      "   event_type_1 event_name_2 event_type_2 snap_CA snap_TX  snap_WI  sell_price  \n",
      "0           NaN          NaN          NaN       0       0        0         NaN  \n",
      "1           NaN          NaN          NaN       0       0        0         NaN  \n",
      "2           NaN          NaN          NaN       0       0        0         NaN  \n",
      "3           NaN          NaN          NaN       0       0        0         NaN  \n",
      "4           NaN          NaN          NaN       0       0        0         NaN  \n",
      "\n",
      "[5 rows x 22 columns]\n"
     ]
    }
   ],
   "source": [
    "print(sales_long.columns)\n",
    "print(sales_long.head())\n"
   ]
  },
  {
   "cell_type": "code",
   "execution_count": 6,
   "id": "7c17cec2",
   "metadata": {},
   "outputs": [],
   "source": [
    "# 确保按商品和时间排序\n",
    "sales_long = sales_long.sort_values(by=['id', 'date'])\n",
    "\n",
    "# 滞后特征\n",
    "for lag in [1, 7, 28]:\n",
    "    sales_long[f'lag_{lag}'] = sales_long.groupby('id')['sales'].shift(lag)\n",
    "\n",
    "# 滚动统计特征（rolling mean / std / max）\n",
    "sales_long['rolling_mean_7'] = sales_long.groupby('id')['sales'].shift(1).rolling(7).mean().reset_index(0, drop=True)\n",
    "sales_long['rolling_std_7'] = sales_long.groupby('id')['sales'].shift(1).rolling(7).std().reset_index(0, drop=True)\n",
    "sales_long['rolling_mean_28'] = sales_long.groupby('id')['sales'].shift(1).rolling(28).mean().reset_index(0, drop=True)\n",
    "sales_long['rolling_max_28'] = sales_long.groupby('id')['sales'].shift(1).rolling(28).max().reset_index(0, drop=True)\n",
    "\n",
    "# 去除因 shift/rolling 产生的缺失行\n",
    "sales_long = sales_long.dropna().reset_index(drop=True)\n"
   ]
  },
  {
   "cell_type": "code",
   "execution_count": 7,
   "id": "f30755bf",
   "metadata": {},
   "outputs": [],
   "source": [
    "sales_long.to_csv(\"m5_features_with_lag.csv\", index=False)\n"
   ]
  }
 ],
 "metadata": {
  "kernelspec": {
   "display_name": "base",
   "language": "python",
   "name": "python3"
  },
  "language_info": {
   "codemirror_mode": {
    "name": "ipython",
    "version": 3
   },
   "file_extension": ".py",
   "mimetype": "text/x-python",
   "name": "python",
   "nbconvert_exporter": "python",
   "pygments_lexer": "ipython3",
   "version": "3.12.4"
  }
 },
 "nbformat": 4,
 "nbformat_minor": 5
}
