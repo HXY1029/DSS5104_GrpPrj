{
 "cells": [
  {
   "cell_type": "code",
   "execution_count": null,
   "id": "874d64a9",
   "metadata": {},
   "outputs": [
    {
     "name": "stdout",
     "output_type": "stream",
     "text": [
      "✅ 已保存为 processed_energy.csv\n"
     ]
    }
   ],
   "source": [
    "import pandas as pd\n",
    "\n",
    "\n",
    "df = pd.read_csv(\"./continuous dataset.csv\") \n",
    "\n",
    "\n",
    "df[\"datetime\"] = pd.to_datetime(df[\"datetime\"])\n",
    "df = df.sort_values(\"datetime\").reset_index(drop=True)\n",
    "\n",
    "# add time features\n",
    "df[\"hour\"] = df[\"datetime\"].dt.hour\n",
    "df[\"weekday\"] = df[\"datetime\"].dt.weekday\n",
    "df[\"is_weekend\"] = df[\"weekday\"].isin([5, 6]).astype(int)\n",
    "\n",
    "# add lag features\n",
    "df[\"lag_1\"] = df[\"nat_demand\"].shift(1)\n",
    "df[\"lag_24\"] = df[\"nat_demand\"].shift(24)  # a day ago\n",
    "df[\"rolling_mean_3d\"] = df[\"nat_demand\"].rolling(window=24*3).mean()\n",
    "df[\"rolling_mean_7d\"] = df[\"nat_demand\"].rolling(window=24*7).mean()\n",
    "\n",
    "\n",
    "df = df.dropna().reset_index(drop=True)\n",
    "\n",
    "\n",
    "df.to_csv(\"energy_processed.csv\", index=False)\n",
    "print(\"save as:energy_processed.csv\")\n"
   ]
  },
  {
   "cell_type": "code",
   "execution_count": null,
   "id": "588cb1be",
   "metadata": {},
   "outputs": [],
   "source": [
    "from sklearn.preprocessing import MinMaxScaler\n",
    "\n",
    "df_energy = pd.read_csv(\"energy_processed.csv\")\n",
    "\n",
    "cols_to_normalize = [\n",
    "    \"nat_demand\",        \n",
    "    \"lag_1\", \"lag_24\",   \n",
    "    \"rolling_mean_3d\", \"rolling_mean_7d\"  \n",
    "]\n",
    "\n",
    "# Initialize the MinMaxScaler\n",
    "scaler = MinMaxScaler()\n",
    "\n",
    "# Fit and transform the selected columns\n",
    "normalized_values = scaler.fit_transform(df_energy[cols_to_normalize])\n",
    "\n",
    "normalized_df = pd.DataFrame(\n",
    "    normalized_values,\n",
    "    columns=[col + \"_normalized\" for col in cols_to_normalize]\n",
    ")\n",
    "\n",
    "# Concatenate the normalized columns with the original dataframe\n",
    "df_energy_normalized = pd.concat([df_energy, normalized_df], axis=1)\n",
    "\n",
    "df_energy_normalized.to_csv(\"energy_normalized.csv\", index=False)\n",
    "print(\"Saved as energy_normalized.csv\")\n",
    "\n"
   ]
  }
 ],
 "metadata": {
  "kernelspec": {
   "display_name": "base",
   "language": "python",
   "name": "python3"
  },
  "language_info": {
   "codemirror_mode": {
    "name": "ipython",
    "version": 3
   },
   "file_extension": ".py",
   "mimetype": "text/x-python",
   "name": "python",
   "nbconvert_exporter": "python",
   "pygments_lexer": "ipython3",
   "version": "3.12.4"
  }
 },
 "nbformat": 4,
 "nbformat_minor": 5
}
