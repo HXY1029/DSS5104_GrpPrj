{
 "cells": [
  {
   "cell_type": "code",
   "execution_count": null,
   "id": "b9f43d8c",
   "metadata": {},
   "outputs": [],
   "source": [
    "import pandas as pd\n",
    "\n",
    "train_df = pd.read_csv(\"train.csv\")\n",
    "store_df = pd.read_csv(\"store.csv\")\n",
    "\n",
    "\n",
    "df = pd.merge(train_df, store_df, on=\"Store\", how=\"left\")\n",
    "\n",
    "\n",
    "df[\"Date\"] = pd.to_datetime(df[\"Date\"])\n",
    "\n",
    "# Create time-based features\n",
    "df[\"year\"] = df[\"Date\"].dt.year\n",
    "df[\"month\"] = df[\"Date\"].dt.month\n",
    "df[\"week\"] = df[\"Date\"].dt.isocalendar().week\n",
    "df[\"day\"] = df[\"Date\"].dt.day\n",
    "df[\"day_of_week\"] = df[\"Date\"].dt.dayofweek\n",
    "df[\"is_weekend\"] = df[\"day_of_week\"].isin([5, 6]).astype(int)\n",
    "\n",
    "# Sort by Store and Date before generating lag features\n",
    "df.sort_values(by=[\"Store\", \"Date\"], inplace=True)\n",
    "\n",
    "# Generate lag and rolling window features (shifted to avoid leakage)\n",
    "df[\"lag_1\"] = df.groupby(\"Store\")[\"Sales\"].shift(1)\n",
    "df[\"lag_7\"] = df.groupby(\"Store\")[\"Sales\"].shift(7)\n",
    "df[\"rolling_mean_7\"] = df.groupby(\"Store\")[\"Sales\"].shift(1).rolling(7).mean()\n",
    "df[\"rolling_std_7\"] = df.groupby(\"Store\")[\"Sales\"].shift(1).rolling(7).std()\n",
    "\n",
    "# Drop rows with NaNs caused by lag/rolling operations\n",
    "df.dropna(inplace=True)\n",
    "\n",
    "df.to_csv(\"rossmann_processed.csv\", index=False)\n",
    "print(\"rossmann_processed.csv saved!\")\n"
   ]
  }
 ],
 "metadata": {
  "language_info": {
   "name": "python"
  }
 },
 "nbformat": 4,
 "nbformat_minor": 5
}
