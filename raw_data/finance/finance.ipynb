{
 "cells": [
  {
   "cell_type": "code",
   "execution_count": null,
   "id": "92060003",
   "metadata": {},
   "outputs": [
    {
     "name": "stderr",
     "output_type": "stream",
     "text": [
      "[*********************100%***********************]  1 of 1 completed"
     ]
    },
    {
     "name": "stdout",
     "output_type": "stream",
     "text": [
      "✅ 文件已生成：GOOGL_processed.csv\n"
     ]
    },
    {
     "name": "stderr",
     "output_type": "stream",
     "text": [
      "\n"
     ]
    }
   ],
   "source": [
    "import yfinance as yf\n",
    "import pandas as pd\n",
    "import numpy as np\n",
    "\n",
    "# Google\n",
    "df = yf.download(\"GOOGL\", start=\"2020-04-01\", end=\"2025-04-01\", interval=\"1d\")\n",
    "df = df.dropna().reset_index()\n",
    "\n",
    "# adding new columns for the date\n",
    "df[\"log_return\"] = np.log(df[(\"Close\", \"GOOGL\")] / df[(\"Close\", \"GOOGL\")].shift(1))\n",
    "df[\"price_change\"] = df[(\"Close\", \"GOOGL\")] - df[(\"Close\", \"GOOGL\")].shift(1)\n",
    "df[\"MA_5\"] = df[(\"Close\", \"GOOGL\")].rolling(5).mean()\n",
    "df[\"MA_10\"] = df[(\"Close\", \"GOOGL\")].rolling(10).mean()\n",
    "df[\"volatility_5\"] = df[(\"Close\", \"GOOGL\")].rolling(5).std()\n",
    "df[\"volatility_10\"] = df[(\"Close\", \"GOOGL\")].rolling(10).std()\n",
    "\n",
    "# add datetime features\n",
    "df[\"dayofweek\"] = df[\"Date\"].dt.dayofweek\n",
    "df[\"is_month_end\"] = df[\"Date\"].dt.is_month_end.astype(int)\n",
    "\n",
    "# regression target: prediction of the next day's price\n",
    "df[\"target_regression\"] = df[(\"Close\", \"GOOGL\")].shift(-1)\n",
    "\n",
    "# classification target: prediction of the next day's price direction\n",
    "df[\"target_direction\"] = (df[\"target_regression\"] > df[(\"Close\", \"GOOGL\")]).astype(int)\n",
    "\n",
    "\n",
    "# Step 5: 删除缺失值\n",
    "df = df.dropna().reset_index(drop=True)\n",
    "\n",
    "# Step 6: 保存\n",
    "df.to_csv(\"GOOGL_processed.csv\", index=False)\n",
    "print(\"already down：GOOGL_processed.csv\")\n"
   ]
  },
  {
   "cell_type": "code",
   "execution_count": null,
   "id": "3d185c0b",
   "metadata": {},
   "outputs": [],
   "source": [
    "import pandas as pd\n",
    "from sklearn.preprocessing import StandardScaler\n",
    "\n",
    "\n",
    "df = pd.read_csv(\"GOOGL_processed.csv\")\n",
    "\n",
    "# the featres we want to standardize\n",
    "cols_to_scale = [\n",
    "    \"price_change\",\n",
    "    \"MA_5\", \"MA_10\",\n",
    "    \"volatility_5\", \"volatility_10\"\n",
    "]\n",
    "\n",
    "# normalize the features\n",
    "scaler = StandardScaler()\n",
    "scaled_values = scaler.fit_transform(df[cols_to_scale])\n",
    "\n",
    "\n",
    "scaled_df = pd.DataFrame(scaled_values, columns=[col + \"_scaled\" for col in cols_to_scale])\n",
    "df_scaled = pd.concat([df, scaled_df], axis=1)\n",
    "\n",
    "df_scaled.to_csv(\"GOOGL_processed_scaled.csv\", index=False)\n",
    "print(\"already down: GOOGL_processed_scaled.csv\")\n"
   ]
  }
 ],
 "metadata": {
  "kernelspec": {
   "display_name": "base",
   "language": "python",
   "name": "python3"
  },
  "language_info": {
   "codemirror_mode": {
    "name": "ipython",
    "version": 3
   },
   "file_extension": ".py",
   "mimetype": "text/x-python",
   "name": "python",
   "nbconvert_exporter": "python",
   "pygments_lexer": "ipython3",
   "version": "3.12.4"
  }
 },
 "nbformat": 4,
 "nbformat_minor": 5
}
