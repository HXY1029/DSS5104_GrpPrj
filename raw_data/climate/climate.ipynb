{
 "cells": [
  {
   "cell_type": "code",
   "execution_count": 1,
   "id": "c136fb3c",
   "metadata": {},
   "outputs": [
    {
     "name": "stdout",
     "output_type": "stream",
     "text": [
      "✅ 已保存为 processed_pollution_multivariate.csv\n"
     ]
    }
   ],
   "source": [
    "import pandas as pd\n",
    "\n",
    "# Step 1: 读取原始 CSV 数据\n",
    "df = pd.read_csv(\"./LSTM-Multivariate_pollution.csv\")\n",
    "\n",
    "# Step 2: 解析时间列并排序\n",
    "df[\"date\"] = pd.to_datetime(df[\"date\"])\n",
    "df = df.sort_values(\"date\").reset_index(drop=True)\n",
    "\n",
    "# Step 3: 时间特征构造\n",
    "df[\"hour\"] = df[\"date\"].dt.hour\n",
    "df[\"weekday\"] = df[\"date\"].dt.weekday\n",
    "df[\"is_weekend\"] = df[\"weekday\"].isin([5, 6]).astype(int)\n",
    "\n",
    "# Step 4: 风向类别编码（转整数）\n",
    "df[\"wnd_dir\"] = df[\"wnd_dir\"].astype(\"category\").cat.codes\n",
    "\n",
    "# Step 5: 构造滞后特征（历史污染）\n",
    "for lag in [1, 3, 6, 24]:\n",
    "    df[f\"pollution_lag{lag}\"] = df[\"pollution\"].shift(lag)\n",
    "\n",
    "# Step 6: 构造空气质量分类标签（污染级别 0~4）\n",
    "def classify_aqi(x):\n",
    "    if x <= 50:\n",
    "        return 0  # 优\n",
    "    elif x <= 100:\n",
    "        return 1  # 良\n",
    "    elif x <= 150:\n",
    "        return 2  # 轻度污染\n",
    "    elif x <= 200:\n",
    "        return 3  # 中度污染\n",
    "    else:\n",
    "        return 4  # 重度污染\n",
    "\n",
    "df[\"pollution_level\"] = df[\"pollution\"].apply(classify_aqi)\n",
    "\n",
    "# Step 7: 删除因 shift 带来的缺失行\n",
    "df = df.dropna().reset_index(drop=True)\n",
    "\n",
    "# Step 8: 保存处理结果\n",
    "df.to_csv(\"processed_pollution_multivariate.csv\", index=False)\n",
    "print(\"✅ 已保存为 processed_pollution_multivariate.csv\")\n"
   ]
  }
 ],
 "metadata": {
  "kernelspec": {
   "display_name": "base",
   "language": "python",
   "name": "python3"
  },
  "language_info": {
   "codemirror_mode": {
    "name": "ipython",
    "version": 3
   },
   "file_extension": ".py",
   "mimetype": "text/x-python",
   "name": "python",
   "nbconvert_exporter": "python",
   "pygments_lexer": "ipython3",
   "version": "3.12.4"
  }
 },
 "nbformat": 4,
 "nbformat_minor": 5
}
