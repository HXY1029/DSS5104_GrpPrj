{
 "cells": [
  {
   "cell_type": "code",
   "execution_count": null,
   "id": "b9f43d8c",
   "metadata": {},
   "outputs": [],
   "source": [
    "import pandas as pd\n",
    "\n",
    "train_df = pd.read_csv(\"train.csv\")\n",
    "store_df = pd.read_csv(\"store.csv\")\n",
    "\n",
    "\n",
    "df = pd.merge(train_df, store_df, on=\"Store\", how=\"left\")\n",
    "\n",
    "\n",
    "df[\"Date\"] = pd.to_datetime(df[\"Date\"])\n",
    "\n",
    "# Create time-based features\n",
    "df[\"year\"] = df[\"Date\"].dt.year\n",
    "df[\"month\"] = df[\"Date\"].dt.month\n",
    "df[\"week\"] = df[\"Date\"].dt.isocalendar().week\n",
    "df[\"day\"] = df[\"Date\"].dt.day\n",
    "df[\"day_of_week\"] = df[\"Date\"].dt.dayofweek\n",
    "df[\"is_weekend\"] = df[\"day_of_week\"].isin([5, 6]).astype(int)\n",
    "\n",
    "# Sort by Store and Date before generating lag features\n",
    "df.sort_values(by=[\"Store\", \"Date\"], inplace=True)\n",
    "\n",
    "# Generate lag and rolling window features (shifted to avoid leakage)\n",
    "df[\"lag_1\"] = df.groupby(\"Store\")[\"Sales\"].shift(1)\n",
    "df[\"lag_7\"] = df.groupby(\"Store\")[\"Sales\"].shift(7)\n",
    "df[\"rolling_mean_7\"] = df.groupby(\"Store\")[\"Sales\"].shift(1).rolling(7).mean()\n",
    "df[\"rolling_std_7\"] = df.groupby(\"Store\")[\"Sales\"].shift(1).rolling(7).std()\n",
    "\n",
    "# Drop rows with NaNs caused by lag/rolling operations\n",
    "df.dropna(inplace=True)\n",
    "\n",
    "df.to_csv(\"rossmann_processed.csv\", index=False)\n",
    "print(\"rossmann_processed.csv saved!\")\n"
   ]
  },
  {
   "cell_type": "code",
   "execution_count": null,
   "id": "b2951e00",
   "metadata": {},
   "outputs": [],
   "source": [
    "from sklearn.preprocessing import MinMaxScaler\n",
    "\n",
    "\n",
    "df = pd.read_csv(\"rossmann_processed.csv\")\n",
    "\n",
    "# Select the columns to normalize\n",
    "cols_to_normalize = [\n",
    "    \"Sales\", \"lag_1\", \"lag_7\", \"rolling_mean_7\", \"rolling_std_7\", \"CompetitionDistance\"\n",
    "]\n",
    "\n",
    "# Apply MinMaxScaler\n",
    "scaler = MinMaxScaler()\n",
    "df_scaled = df.copy()\n",
    "df_scaled[[col + \"_normalized\" for col in cols_to_normalize]] = scaler.fit_transform(df[cols_to_normalize])\n",
    "\n",
    "df_scaled.to_csv(\"rossmann_normalized.csv\", index=False)\n",
    "\n"
   ]
  }
 ],
 "metadata": {
  "language_info": {
   "name": "python"
  }
 },
 "nbformat": 4,
 "nbformat_minor": 5
}
